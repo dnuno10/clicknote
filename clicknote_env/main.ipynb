{
 "cells": [
  {
   "cell_type": "markdown",
   "id": "abaeb876-fa00-40a8-86cd-495c42d8022d",
   "metadata": {},
   "source": [
    "PRINT FUNCTIONALITY"
   ]
  },
  {
   "cell_type": "code",
   "execution_count": 2,
   "id": "70d59e96-20db-49ba-a0f1-cf2eefd0da18",
   "metadata": {},
   "outputs": [
    {
     "name": "stdout",
     "output_type": "stream",
     "text": [
      "hello team\n"
     ]
    }
   ],
   "source": [
    "print('hello team')"
   ]
  },
  {
   "cell_type": "code",
   "execution_count": 1,
   "id": "fc8c4ec6-664f-4372-9825-b426600be110",
   "metadata": {},
   "outputs": [
    {
     "name": "stdout",
     "output_type": "stream",
     "text": [
      "Hi\n"
     ]
    }
   ],
   "source": [
    "print(\"Hi\")"
   ]
  }
 ],
 "metadata": {
  "kernelspec": {
   "display_name": "base",
   "language": "python",
   "name": "python3"
  },
  "language_info": {
   "codemirror_mode": {
    "name": "ipython",
    "version": 3
   },
   "file_extension": ".py",
   "mimetype": "text/x-python",
   "name": "python",
   "nbconvert_exporter": "python",
   "pygments_lexer": "ipython3",
   "version": "3.11.5"
  }
 },
 "nbformat": 4,
 "nbformat_minor": 5
}
